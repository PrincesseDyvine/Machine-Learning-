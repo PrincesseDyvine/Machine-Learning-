{
  "nbformat": 4,
  "nbformat_minor": 0,
  "metadata": {
    "colab": {
      "provenance": [],
      "collapsed_sections": [
        "RrE0DDBWvyY7",
        "ETWxA5EKv9aq"
      ]
    },
    "kernelspec": {
      "name": "python3",
      "display_name": "Python 3"
    },
    "language_info": {
      "name": "python"
    }
  },
  "cells": [
    {
      "cell_type": "markdown",
      "source": [
        "# Chapter 2 (Part 2):  Finetune your model\n",
        "\n"
      ],
      "metadata": {
        "id": "-3NoPqFBvaUd"
      }
    },
    {
      "cell_type": "markdown",
      "source": [
        "## Previously in Chapter 2:"
      ],
      "metadata": {
        "id": "RrE0DDBWvyY7"
      }
    },
    {
      "cell_type": "markdown",
      "source": [
        "### Import Libraries"
      ],
      "metadata": {
        "id": "ETWxA5EKv9aq"
      }
    },
    {
      "cell_type": "code",
      "source": [
        "import os\n",
        "import tarfile\n",
        "from six.moves import urllib\n",
        "import pandas as pd\n",
        "import numpy as np\n",
        "from sklearn.model_selection import StratifiedShuffleSplit\n",
        "from sklearn.base import BaseEstimator, TransformerMixin\n",
        "from sklearn.pipeline import Pipeline\n",
        "from sklearn.preprocessing import StandardScaler\n",
        "from sklearn.linear_model import LinearRegression\n",
        "from sklearn.tree import DecisionTreeRegressor\n",
        "from sklearn.ensemble import RandomForestRegressor\n",
        "from sklearn.impute import SimpleImputer\n",
        "from sklearn.preprocessing import OneHotEncoder\n",
        "from sklearn.metrics import mean_squared_error\n",
        "from sklearn.model_selection import cross_val_score\n",
        "%matplotlib inline\n",
        "import matplotlib.pyplot as plt\n",
        "from sklearn.compose import ColumnTransformer"
      ],
      "metadata": {
        "id": "JhZ33CVwv8yz"
      },
      "execution_count": null,
      "outputs": []
    },
    {
      "cell_type": "markdown",
      "source": [
        "### Loading Data "
      ],
      "metadata": {
        "id": "c7b3UT5Wv0hz"
      }
    },
    {
      "cell_type": "code",
      "source": [
        "#This is where the data are hosted\n",
        "DOWNLOAD_ROOT = \"https://raw.githubusercontent.com/ageron/handson-ml2/master/\" \n",
        "HOUSING_URL = DOWNLOAD_ROOT + \"datasets/housing/housing.tgz\" #data path\n",
        "\n",
        "#This is where we will store downloaded data\n",
        "HOUSING_PATH = os.path.join(\"datasets\", \"housing\")\n",
        "\n",
        "def fetch_housing_data(housing_url=HOUSING_URL, housing_path=HOUSING_PATH):\n",
        "  if not os.path.isdir(housing_path):\n",
        "    os.makedirs(housing_path)\n",
        "  tgz_path = os.path.join(housing_path, \"housing.tgz\")\n",
        "  urllib.request.urlretrieve(housing_url, tgz_path)\n",
        "  housing_tgz = tarfile.open(tgz_path)\n",
        "  housing_tgz.extractall(path=housing_path)\n",
        "  housing_tgz.close()\n",
        "\n",
        "def load_housing_data(housing_path=HOUSING_PATH):\n",
        "  csv_path = os.path.join(housing_path, \"housing.csv\")\n",
        "  return pd.read_csv(csv_path)\n",
        "\n",
        "#Download data\n",
        "fetch_housing_data()\n",
        "#load the data\n",
        "housing = load_housing_data()\n",
        "print(housing.head())"
      ],
      "metadata": {
        "id": "lv9sWGF02PU0",
        "colab": {
          "base_uri": "https://localhost:8080/"
        },
        "outputId": "5c01a57a-626f-45e2-abb2-3a17663c5ca5"
      },
      "execution_count": null,
      "outputs": [
        {
          "output_type": "stream",
          "name": "stdout",
          "text": [
            "   longitude  latitude  housing_median_age  total_rooms  total_bedrooms  \\\n",
            "0    -122.23     37.88                41.0        880.0           129.0   \n",
            "1    -122.22     37.86                21.0       7099.0          1106.0   \n",
            "2    -122.24     37.85                52.0       1467.0           190.0   \n",
            "3    -122.25     37.85                52.0       1274.0           235.0   \n",
            "4    -122.25     37.85                52.0       1627.0           280.0   \n",
            "\n",
            "   population  households  median_income  median_house_value ocean_proximity  \n",
            "0       322.0       126.0         8.3252            452600.0        NEAR BAY  \n",
            "1      2401.0      1138.0         8.3014            358500.0        NEAR BAY  \n",
            "2       496.0       177.0         7.2574            352100.0        NEAR BAY  \n",
            "3       558.0       219.0         5.6431            341300.0        NEAR BAY  \n",
            "4       565.0       259.0         3.8462            342200.0        NEAR BAY  \n"
          ]
        }
      ]
    },
    {
      "cell_type": "markdown",
      "source": [
        "### Create a stratified train/test set"
      ],
      "metadata": {
        "id": "Z573HEYMwXCb"
      }
    },
    {
      "cell_type": "code",
      "source": [
        "housing[\"income_cat\"] = pd.cut(housing[\"median_income\"],\n",
        "                               bins=[0., 1.5, 3.0, 4.5, 6., np.inf],\n",
        "                               labels=[1, 2, 3, 4, 5])"
      ],
      "metadata": {
        "id": "FSCfiiJqwniy"
      },
      "execution_count": null,
      "outputs": []
    },
    {
      "cell_type": "code",
      "source": [
        "split = StratifiedShuffleSplit(n_splits=1, test_size=0.2, random_state=42)\n",
        "for train_index, test_index in split.split(housing, housing[\"income_cat\"]):\n",
        " strat_train_set = housing.loc[train_index]\n",
        " strat_test_set = housing.loc[test_index]"
      ],
      "metadata": {
        "id": "C6BNjB-mvwAL"
      },
      "execution_count": null,
      "outputs": []
    },
    {
      "cell_type": "code",
      "execution_count": null,
      "metadata": {
        "id": "rUIW40hjvZXx"
      },
      "outputs": [],
      "source": [
        "for set_ in (strat_train_set, strat_test_set):\n",
        "    set_.drop(\"income_cat\", axis=1, inplace=True)"
      ]
    },
    {
      "cell_type": "markdown",
      "source": [
        "### Plot Train data"
      ],
      "metadata": {
        "id": "fQFqL7XSwwye"
      }
    },
    {
      "cell_type": "code",
      "source": [
        "housing.plot(kind=\"scatter\", x=\"longitude\", y=\"latitude\", alpha=0.4,\n",
        " s=housing[\"population\"]/100, label=\"population\", figsize=(10,7),\n",
        " c=\"median_house_value\", cmap=plt.get_cmap(\"jet\"), colorbar=True,\n",
        ")\n",
        "\n",
        "plt.legend()"
      ],
      "metadata": {
        "id": "z0pSETbAwwhK",
        "colab": {
          "base_uri": "https://localhost:8080/",
          "height": 436
        },
        "outputId": "2d417594-6d5d-4f1c-9ca3-683f51a015fd"
      },
      "execution_count": null,
      "outputs": [
        {
          "output_type": "execute_result",
          "data": {
            "text/plain": [
              "<matplotlib.legend.Legend at 0x7f20a8014050>"
            ]
          },
          "metadata": {},
          "execution_count": 21
        },
        {
          "output_type": "display_data",
          "data": {
            "text/plain": [
              "<Figure size 720x504 with 2 Axes>"
            ],
            "image/png": "[encoded data removed]"
          },
          "metadata": {
            "needs_background": "light"
          }
        }
      ]
    },
    {
      "cell_type": "markdown",
      "source": [
        "### Train data and labels"
      ],
      "metadata": {
        "id": "zaqzYdM5w46i"
      }
    },
    {
      "cell_type": "code",
      "source": [
        "housing = strat_train_set.drop(\"median_house_value\", axis=1)\n",
        "housing_labels = strat_train_set[\"median_house_value\"].copy()"
      ],
      "metadata": {
        "id": "Vlm0e3F7w-Ih"
      },
      "execution_count": null,
      "outputs": []
    },
    {
      "cell_type": "markdown",
      "source": [
        "### Data preparation"
      ],
      "metadata": {
        "id": "okat_FuYxJ0S"
      }
    },
    {
      "cell_type": "code",
      "source": [
        "col_names = \"total_rooms\", \"total_bedrooms\", \"population\", \"households\"\n",
        "rooms_ix, bedrooms_ix, population_ix, households_ix = [\n",
        "    housing.columns.get_loc(c) for c in col_names] # get the column indices\n",
        "\n",
        "class CombinedAttributesAdder(BaseEstimator, TransformerMixin):\n",
        "    def __init__(self, add_bedrooms_per_room=True): # no *args or **kargs\n",
        "        self.add_bedrooms_per_room = add_bedrooms_per_room\n",
        "    def fit(self, X, y=None):\n",
        "        return self  # nothing else to do\n",
        "    def transform(self, X):\n",
        "        rooms_per_household = X[:, rooms_ix] / X[:, households_ix]\n",
        "        population_per_household = X[:, population_ix] / X[:, households_ix]\n",
        "        if self.add_bedrooms_per_room:\n",
        "            bedrooms_per_room = X[:, bedrooms_ix] / X[:, rooms_ix]\n",
        "            return np.c_[X, rooms_per_household, population_per_household,\n",
        "                         bedrooms_per_room]\n",
        "        else:\n",
        "            return np.c_[X, rooms_per_household, population_per_household]\n"
      ],
      "metadata": {
        "id": "o3qeyFlVxOGa"
      },
      "execution_count": null,
      "outputs": []
    },
    {
      "cell_type": "code",
      "source": [
        "num_pipeline = Pipeline([\n",
        " ('imputer', SimpleImputer(strategy=\"median\")),\n",
        " ('attribs_adder', CombinedAttributesAdder()),\n",
        " ('std_scaler', StandardScaler()),\n",
        " ])"
      ],
      "metadata": {
        "id": "VF-RYhndxYRZ"
      },
      "execution_count": null,
      "outputs": []
    },
    {
      "cell_type": "code",
      "source": [
        "housing_num = housing.drop(\"ocean_proximity\", axis=1)\n",
        "num_attribs = list(housing_num)\n",
        "cat_attribs = [\"ocean_proximity\"]\n",
        "full_pipeline = ColumnTransformer([\n",
        " (\"num\", num_pipeline, num_attribs),\n",
        " (\"cat\", OneHotEncoder(), cat_attribs),\n",
        " ])\n",
        "housing_prepared = full_pipeline.fit_transform(housing)"
      ],
      "metadata": {
        "id": "6Hf3eQqXxbXJ"
      },
      "execution_count": null,
      "outputs": []
    },
    {
      "cell_type": "markdown",
      "source": [
        "### Train Linear Model"
      ],
      "metadata": {
        "id": "0ottqT8ixtea"
      }
    },
    {
      "cell_type": "code",
      "source": [
        "lin_reg = LinearRegression()\n",
        "lin_reg.fit(housing_prepared, housing_labels)\n",
        "housing_predictions = lin_reg.predict(housing_prepared)\n",
        "lin_mse = mean_squared_error(housing_labels, housing_predictions)\n",
        "lin_rmse = np.sqrt(lin_mse)\n",
        "lin_rmse"
      ],
      "metadata": {
        "id": "afICdLtzxwRK",
        "colab": {
          "base_uri": "https://localhost:8080/"
        },
        "outputId": "39facce5-73bd-46f5-be5e-9211ff596b7b"
      },
      "execution_count": null,
      "outputs": [
        {
          "output_type": "execute_result",
          "data": {
            "text/plain": [
              "68627.87390018745"
            ]
          },
          "metadata": {},
          "execution_count": 26
        }
      ]
    },
    {
      "cell_type": "markdown",
      "source": [
        "Train Decision Tree Model"
      ],
      "metadata": {
        "id": "pVIWl6DvyHrn"
      }
    },
    {
      "cell_type": "code",
      "source": [
        "tree_reg = DecisionTreeRegressor(random_state=42)\n",
        "tree_reg.fit(housing_prepared, housing_labels)\n",
        "housing_predictions = tree_reg.predict(housing_prepared)\n",
        "tree_mse = mean_squared_error(housing_labels, housing_predictions)\n",
        "tree_rmse = np.sqrt(tree_mse)\n",
        "tree_rmse"
      ],
      "metadata": {
        "id": "Y6z8wi8NyGES",
        "colab": {
          "base_uri": "https://localhost:8080/"
        },
        "outputId": "becd0ee5-eddf-46c1-f88f-4455e3449d90"
      },
      "execution_count": null,
      "outputs": [
        {
          "output_type": "execute_result",
          "data": {
            "text/plain": [
              "0.0"
            ]
          },
          "metadata": {},
          "execution_count": 27
        }
      ]
    },
    {
      "cell_type": "markdown",
      "source": [
        "### Train Random Forest Model"
      ],
      "metadata": {
        "id": "PDPQP7Abyk84"
      }
    },
    {
      "cell_type": "code",
      "source": [
        "forest_reg = RandomForestRegressor(n_estimators=100, random_state=42)\n",
        "forest_reg.fit(housing_prepared, housing_labels)\n",
        "housing_predictions = forest_reg.predict(housing_prepared)\n",
        "forest_mse = mean_squared_error(housing_labels, housing_predictions)\n",
        "forest_rmse = np.sqrt(forest_mse)\n",
        "forest_rmse"
      ],
      "metadata": {
        "id": "oGqgPsCfykNz",
        "colab": {
          "base_uri": "https://localhost:8080/"
        },
        "outputId": "e16eb1a2-67c5-4883-a904-c07be2636155"
      },
      "execution_count": null,
      "outputs": [
        {
          "output_type": "execute_result",
          "data": {
            "text/plain": [
              "18650.698705770003"
            ]
          },
          "metadata": {},
          "execution_count": 28
        }
      ]
    },
    {
      "cell_type": "markdown",
      "source": [
        "### Use Cross Validation"
      ],
      "metadata": {
        "id": "r8R3p2-OyUGR"
      }
    },
    {
      "cell_type": "code",
      "source": [
        "def display_scores(scores):\n",
        "  print(\"Scores:\", scores)\n",
        "  print(\"Mean:\", scores.mean())\n",
        "  print(\"Standard deviation:\", scores.std())\n",
        "\n",
        "\n",
        "lin_scores = cross_val_score(lin_reg, housing_prepared, housing_labels, scoring=\"neg_mean_squared_error\", cv=10)\n",
        "lin_rmse_scores = np.sqrt(-lin_scores)\n",
        "display_scores(lin_rmse_scores)\n",
        "\n",
        "scores = cross_val_score(tree_reg, housing_prepared, housing_labels,\n",
        " scoring=\"neg_mean_squared_error\", cv=10)\n",
        "tree_rmse_scores = np.sqrt(-scores)\n",
        "display_scores(tree_rmse_scores)\n",
        "\n",
        "forest_scores = cross_val_score(forest_reg, housing_prepared, housing_labels,\n",
        "                                scoring=\"neg_mean_squared_error\", cv=10)\n",
        "forest_rmse_scores = np.sqrt(-forest_scores)\n",
        "display_scores(forest_rmse_scores)"
      ],
      "metadata": {
        "id": "ZH7Ybr2VyKl5",
        "colab": {
          "base_uri": "https://localhost:8080/"
        },
        "outputId": "c129b0d4-77fd-4660-b158-c2e60b631519"
      },
      "execution_count": null,
      "outputs": [
        {
          "output_type": "stream",
          "name": "stdout",
          "text": [
            "Scores: [71762.76364394 64114.99166359 67771.17124356 68635.19072082\n",
            " 66846.14089488 72528.03725385 73997.08050233 68802.33629334\n",
            " 66443.28836884 70139.79923956]\n",
            "Mean: 69104.07998247063\n",
            "Standard deviation: 2880.3282098180644\n",
            "Scores: [72831.45749112 69973.18438322 69528.56551415 72517.78229792\n",
            " 69145.50006909 79094.74123727 68960.045444   73344.50225684\n",
            " 69826.02473916 71077.09753998]\n",
            "Mean: 71629.89009727491\n",
            "Standard deviation: 2914.035468468928\n",
            "Scores: [51559.63379638 48737.57100062 47210.51269766 51875.21247297\n",
            " 47577.50470123 51863.27467888 52746.34645573 50065.1762751\n",
            " 48664.66818196 54055.90894609]\n",
            "Mean: 50435.58092066179\n",
            "Standard deviation: 2203.3381412764606\n"
          ]
        }
      ]
    },
    {
      "cell_type": "markdown",
      "source": [
        "## Finetuning Hyper Parameters"
      ],
      "metadata": {
        "id": "AZeAqTg90FRX"
      }
    },
    {
      "cell_type": "markdown",
      "source": [
        "Let’s assume that you now have a shortlist of promising models. You now need to\n",
        "fine-tune them. Let’s look at a few ways you can do that."
      ],
      "metadata": {
        "id": "essF0zyt0-74"
      }
    },
    {
      "cell_type": "markdown",
      "source": [
        "One way to do that would be to fiddle with the hyperparameters manually, until you\n",
        "find a great combination of hyperparameter values. This would be very tedious work,\n",
        "and you may not have time to explore many combinations.\n",
        "\n",
        "Instead you should get Scikit-Learn’s GridSearchCV to search for you. All you need to\n",
        "do is tell it which hyperparameters you want it to experiment with, and what values to\n",
        "try out, and it will evaluate all the possible combinations of hyperparameter values,\n",
        "using cross-validation. For example, the following code searches for the best combination of hyperparameter values for the RandomForestRegressor:"
      ],
      "metadata": {
        "id": "KOhRGTOq1ENO"
      }
    },
    {
      "cell_type": "markdown",
      "source": [
        "\n",
        "```\n",
        "class  sklearn.ensemble.RandomForestRegressor(\n",
        "  n_estimators=100, \n",
        "  criterion='squared_error',\n",
        "  max_depth=None, \n",
        "  min_samples_split=2, \n",
        "  min_samples_leaf=1, \n",
        "  min_weight_fraction_leaf=0.0, \n",
        "  max_features='auto', \n",
        "  max_leaf_nodes=None, \n",
        "  min_impurity_decrease=0.0, \n",
        "  bootstrap=True, \n",
        "  oob_score=False, \n",
        "  n_jobs=None, \n",
        "  random_state=None, \n",
        "  verbose=0, \n",
        "  warm_start=False, \n",
        "  ccp_alpha=0.0, \n",
        "  max_samples=None\n",
        ")\n",
        "```"
      ],
      "metadata": {
        "id": "EtM6XwFs1aZP"
      }
    },
    {
      "cell_type": "markdown",
      "source": [
        "Try to finetune the following hyper parameters using GridSearchCV:\n",
        "- With bootstrap: \n",
        "  - n_estimators : 3,5,10,30\n",
        "  - max_features : 1,2,4,8\n",
        "\n",
        "- Without bootstrap: \n",
        "  - n_estimators : 3,10\n",
        "  - max_features : 2,3,4\n"
      ],
      "metadata": {
        "id": "MapT2z_D2JdF"
      }
    },
    {
      "cell_type": "code",
      "source": [
        "from sklearn.model_selection import GridSearchCV\n",
        "param_grid = [{'n_estimators':[3,5,10,30],'max_features': [1,2,4,8]},{'n_estimators': [3,10],'max_features': [2,3,4],'bootstrap':[False]}]\n",
        "forest_reg = RandomForestRegressor()\n",
        "grid_search =GridSearchCV(forest_reg,param_grid, cv=5) \n",
        "\n",
        "#Fit the grid search\n",
        "grid_search.fit(housing_prepared,housing_labels)"
      ],
      "metadata": {
        "id": "eue8TCBf0-sw",
        "colab": {
          "base_uri": "https://localhost:8080/"
        },
        "outputId": "0e6ae6e9-04e4-4657-dff7-02b1a6d39c75"
      },
      "execution_count": null,
      "outputs": [
        {
          "output_type": "execute_result",
          "data": {
            "text/plain": [
              "GridSearchCV(cv=5, estimator=RandomForestRegressor(),\n",
              "             param_grid=[{'max_features': [1, 2, 4, 8],\n",
              "                          'n_estimators': [3, 5, 10, 30]},\n",
              "                         {'bootstrap': [False], 'max_features': [2, 3, 4],\n",
              "                          'n_estimators': [3, 10]}])"
            ]
          },
          "metadata": {},
          "execution_count": 30
        }
      ]
    },
    {
      "cell_type": "markdown",
      "source": [
        "Get best parameters"
      ],
      "metadata": {
        "id": "z2kQEzuL30vl"
      }
    },
    {
      "cell_type": "code",
      "source": [
        "grid_search.best_params_"
      ],
      "metadata": {
        "id": "LRZxBeBLzmew",
        "colab": {
          "base_uri": "https://localhost:8080/"
        },
        "outputId": "f1251dcb-1a8d-4671-dfe1-bba8333b0249"
      },
      "execution_count": null,
      "outputs": [
        {
          "output_type": "execute_result",
          "data": {
            "text/plain": [
              "{'max_features': 8, 'n_estimators': 30}"
            ]
          },
          "metadata": {},
          "execution_count": 31
        }
      ]
    },
    {
      "cell_type": "markdown",
      "source": [
        "or get the best estimator directly"
      ],
      "metadata": {
        "id": "tZqduuTp37F9"
      }
    },
    {
      "cell_type": "code",
      "source": [
        "grid_search.best_estimator_"
      ],
      "metadata": {
        "id": "12ANftWq4TEV",
        "colab": {
          "base_uri": "https://localhost:8080/"
        },
        "outputId": "0beee9ea-7c39-48de-9c70-1e81f64763b0"
      },
      "execution_count": null,
      "outputs": [
        {
          "output_type": "execute_result",
          "data": {
            "text/plain": [
              "RandomForestRegressor(max_features=8, n_estimators=30)"
            ]
          },
          "metadata": {},
          "execution_count": 32
        }
      ]
    },
    {
      "cell_type": "markdown",
      "source": [
        "Check the evaluation scores of the GridSearch"
      ],
      "metadata": {
        "id": "gC_a8lp04dUc"
      }
    },
    {
      "cell_type": "code",
      "source": [
        "cvres = grid_search.cv_results_\n",
        "for mean_score, params in zip(cvres[\"mean_test_score\"], cvres[\"params\"]):\n",
        "  print(np.sqrt(-mean_score), params)"
      ],
      "metadata": {
        "id": "Pb8DewsQ4T51",
        "colab": {
          "base_uri": "https://localhost:8080/"
        },
        "outputId": "c152a66a-f4de-4ccb-e66c-e9a4f467588c"
      },
      "execution_count": null,
      "outputs": [
        {
          "output_type": "stream",
          "name": "stdout",
          "text": [
            "nan {'max_features': 1, 'n_estimators': 3}\n",
            "nan {'max_features': 1, 'n_estimators': 5}\n",
            "nan {'max_features': 1, 'n_estimators': 10}\n",
            "nan {'max_features': 1, 'n_estimators': 30}\n",
            "nan {'max_features': 2, 'n_estimators': 3}\n",
            "nan {'max_features': 2, 'n_estimators': 5}\n",
            "nan {'max_features': 2, 'n_estimators': 10}\n",
            "nan {'max_features': 2, 'n_estimators': 30}\n",
            "nan {'max_features': 4, 'n_estimators': 3}\n",
            "nan {'max_features': 4, 'n_estimators': 5}\n",
            "nan {'max_features': 4, 'n_estimators': 10}\n",
            "nan {'max_features': 4, 'n_estimators': 30}\n",
            "nan {'max_features': 8, 'n_estimators': 3}\n",
            "nan {'max_features': 8, 'n_estimators': 5}\n",
            "nan {'max_features': 8, 'n_estimators': 10}\n",
            "nan {'max_features': 8, 'n_estimators': 30}\n",
            "nan {'bootstrap': False, 'max_features': 2, 'n_estimators': 3}\n",
            "nan {'bootstrap': False, 'max_features': 2, 'n_estimators': 10}\n",
            "nan {'bootstrap': False, 'max_features': 3, 'n_estimators': 3}\n",
            "nan {'bootstrap': False, 'max_features': 3, 'n_estimators': 10}\n",
            "nan {'bootstrap': False, 'max_features': 4, 'n_estimators': 3}\n",
            "nan {'bootstrap': False, 'max_features': 4, 'n_estimators': 10}\n"
          ]
        },
        {
          "output_type": "stream",
          "name": "stderr",
          "text": [
            "/usr/local/lib/python3.7/dist-packages/ipykernel_launcher.py:3: RuntimeWarning: invalid value encountered in sqrt\n",
            "  This is separate from the ipykernel package so we can avoid doing imports until\n"
          ]
        }
      ]
    },
    {
      "cell_type": "markdown",
      "source": [
        "The grid search approach is fine when you are exploring relatively few combinations,\n",
        "like in the previous example, but when the hyperparameter search space is large, it is\n",
        "often preferable to use RandomizedSearchCV instead. This class can be used in much\n",
        "the same way as the GridSearchCV class, but instead of trying out all possible combinations, it evaluates a given number of random combinations by selecting a random\n",
        "value for each hyperparameter at every iteration. This approach has two main benefits:\n",
        "* If you let the randomized search run for, say, 1,000 iterations, this approach will\n",
        "explore 1,000 different values for each hyperparameter (instead of just a few values per hyperparameter with the grid search approach).\n",
        "* You have more control over the computing budget you want to allocate to hyper‐\n",
        "parameter search, simply by setting the number of iterations."
      ],
      "metadata": {
        "id": "ZFyG3TWU40yT"
      }
    },
    {
      "cell_type": "code",
      "source": [
        "feature_importances = grid_search.best_estimator_.feature_importances_\n",
        "extra_attribs = [\"rooms_per_hhold\", \"pop_per_hhold\", \"bedrooms_per_room\"]\n",
        "cat_encoder = full_pipeline.named_transformers_[\"cat\"]\n",
        "cat_one_hot_attribs = list(cat_encoder.categories_[0])\n",
        "attributes = num_attribs + extra_attribs + cat_one_hot_attribs\n",
        "\n",
        "#show feat importance and their corresponding columns (sorted)\n",
        "sorted(zip(feature_importances,attributes),reverse=True)"
      ],
      "metadata": {
        "id": "1Oh9MfTg8Emb",
        "colab": {
          "base_uri": "https://localhost:8080/"
        },
        "outputId": "f9330a5e-d1ea-4e28-cf4b-0b8cbd426bb0"
      },
      "execution_count": null,
      "outputs": [
        {
          "output_type": "execute_result",
          "data": {
            "text/plain": [
              "[(0.3667275965558939, 'median_income'),\n",
              " (0.17520996293028462, 'INLAND'),\n",
              " (0.11210599513502172, 'pop_per_hhold'),\n",
              " (0.0709940103611302, 'longitude'),\n",
              " (0.061071255958426975, 'latitude'),\n",
              " (0.055945626931071954, 'rooms_per_hhold'),\n",
              " (0.04565901462618591, 'bedrooms_per_room'),\n",
              " (0.042928888220400994, 'housing_median_age'),\n",
              " (0.015215357919390585, 'total_rooms'),\n",
              " (0.014979569883769143, 'total_bedrooms'),\n",
              " (0.014920535521136227, 'households'),\n",
              " (0.014753102160555004, 'population'),\n",
              " (0.004285159096853691, '<1H OCEAN'),\n",
              " (0.0031460562271145077, 'NEAR OCEAN'),\n",
              " (0.001983527105981582, 'NEAR BAY'),\n",
              " (7.434136678304176e-05, 'ISLAND')]"
            ]
          },
          "metadata": {},
          "execution_count": 35
        }
      ]
    },
    {
      "cell_type": "markdown",
      "source": [
        "## Analyze the Best Models and Their Errors\n",
        "\n",
        "You will often gain good insights on the problem by inspecting the best models. For\n",
        "example, the RandomForestRegressor can indicate the relative importance of each\n",
        "attribute for making accurate predictions:"
      ],
      "metadata": {
        "id": "xfBIAaUV8p-B"
      }
    },
    {
      "cell_type": "markdown",
      "source": [
        "Add new Transformer to select only best features"
      ],
      "metadata": {
        "id": "JOtBBu2-LTSO"
      }
    },
    {
      "cell_type": "code",
      "source": [
        "def indices_of_top_k(arr, k):\n",
        "    return np.sort(np.argpartition(np.array(arr), -k)[-k:])\n",
        "\n",
        "class TopFeatureSelector(BaseEstimator, TransformerMixin):\n",
        "    def __init__(self, feature_importances, k):\n",
        "        self.feature_importances = feature_importances\n",
        "        self.k = k\n",
        "    def fit(self, X, y=None):\n",
        "        self.feature_indices_ =  indices_of_top_k(self.feature_importances, self.k)\n",
        "        return self\n",
        "    def transform(self, X):\n",
        "        return  X[:, self.feature_indices_]"
      ],
      "metadata": {
        "id": "aX4zUdxOLX7W"
      },
      "execution_count": null,
      "outputs": []
    },
    {
      "cell_type": "markdown",
      "source": [
        "Append the new transformer to data preparation"
      ],
      "metadata": {
        "id": "d_sYp4blLjnO"
      }
    },
    {
      "cell_type": "code",
      "source": [
        "preparation_and_feature_selection_pipeline = #create new pipeline !\n",
        "housing_prepared_top_k_features = preparation_and_feature_selection_pipeline.fit_transform(housing)"
      ],
      "metadata": {
        "id": "O3CUe9g0LnWe"
      },
      "execution_count": null,
      "outputs": []
    },
    {
      "cell_type": "markdown",
      "source": [
        "Train the model and use RandomizedSearchCV for hyperparameter tuning"
      ],
      "metadata": {
        "id": "Xuv69m8FPxNr"
      }
    },
    {
      "cell_type": "code",
      "source": [
        "parameters = # define list of parameters for RandomizedSearchCV\n",
        "forest_reg = RandomForestRegressor()\n",
        "rand_search = # define RandomizedSearchCV for 10 iteration\n",
        "rand_search.fit(housing_prepared_top_k_features, housing_labels)"
      ],
      "metadata": {
        "id": "GZYzzOxBL5LO"
      },
      "execution_count": null,
      "outputs": []
    },
    {
      "cell_type": "markdown",
      "source": [
        "## Evaluate Your System on the Test Set\n",
        "\n"
      ],
      "metadata": {
        "id": "3DOY_as0JhI_"
      }
    },
    {
      "cell_type": "markdown",
      "source": [
        "After tweaking your models for a while, you eventually have a system that performs\n",
        "sufficiently well. Now is the time to evaluate the final model on the test set. There is\n",
        "nothing special about this process; just get the predictors and the labels from your\n",
        "test set, run your full_pipeline to transform the data (call transform(), not\n",
        "fit_transform(), you do not want to fit the test set!), and evaluate the final model\n",
        "on the test set:"
      ],
      "metadata": {
        "id": "b-oMHsPOJoLw"
      }
    },
    {
      "cell_type": "code",
      "source": [
        "final_model = grid_search.best_estimator_\n",
        "#get the final rmse using test set !\n",
        "\n",
        "\n",
        "\n",
        "\n",
        "\n"
      ],
      "metadata": {
        "id": "SwsvA4kkGhvK"
      },
      "execution_count": null,
      "outputs": []
    },
    {
      "cell_type": "code",
      "source": [
        "final_rmse"
      ],
      "metadata": {
        "id": "uKiANoN6KhvO"
      },
      "execution_count": null,
      "outputs": []
    }
  ]
}