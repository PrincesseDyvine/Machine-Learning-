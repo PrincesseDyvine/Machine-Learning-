{
  "cells": [
    {
      "cell_type": "markdown",
      "metadata": {
        "id": "mRpPI8ZBPQrE"
      },
      "source": [
        "## The Dataset: Property prices in Tunisia\n",
        "##Task: Price Prediction"
      ]
    },
    {
      "cell_type": "code",
      "execution_count": null,
      "metadata": {
        "id": "0pUOGGEbPQSf"
      },
      "outputs": [],
      "source": [
        "import os\n",
        "import urllib.request\n",
        "\n",
        "DATA_PATH = \"dataset\"\n",
        "DOWNLOAD_URL = \"https://raw.githubusercontent.com/AhmedCheikhRouhou/Datasets/main/proptun.csv\"\n",
        "\n",
        "def fetch_data(url=DOWNLOAD_URL, path=DATA_PATH):\n",
        "    if not os.path.isdir(path):\n",
        "        os.makedirs(path)\n",
        "    urllib.request.urlretrieve(url , os.path.join(path, \"data.csv\"))\n",
        "\n",
        "fetch_data()"
      ]
    },
    {
      "cell_type": "markdown",
      "metadata": {
        "id": "MNLVIlXLSkKE"
      },
      "source": [
        "**You can find your data in** `dataset/data.csv`"
      ]
    },
    {
      "cell_type": "markdown",
      "metadata": {
        "id": "5LLl-W3BSUbg"
      },
      "source": [
        "## Part 0: Imports"
      ]
    },
    {
      "cell_type": "code",
      "execution_count": null,
      "metadata": {
        "id": "d_ZFd2V1SaQd"
      },
      "outputs": [],
      "source": [
        "import pandas as pd\n",
        "from sklearn.model_selection import train_test_split\n",
        "import numpy as np\n",
        "\n"
      ]
    },
    {
      "cell_type": "markdown",
      "metadata": {
        "id": "UZp3UgaBRxzi"
      },
      "source": [
        "## Part 1 (1 Points): Load and split the data with pandas"
      ]
    },
    {
      "cell_type": "code",
      "execution_count": null,
      "metadata": {
        "id": "X5rX5d2pNeBM"
      },
      "outputs": [],
      "source": [
        "# Load data\n",
        "def load_dataset_data(dataset=DATA_PATH):\n",
        "   db=os.path.join(dataset,\"data.csv\")\n",
        "   return pd.read_csv(db)\n",
        "\n",
        "dataset = load_dataset_data()\n"
      ]
    },
    {
      "cell_type": "code",
      "execution_count": null,
      "metadata": {
        "id": "1YdWBf8IS0I3"
      },
      "outputs": [],
      "source": [
        "# Split Data\n",
        "train_set, test_set =train_test_split(dataset, test_size=0.2, random_state=42)\n"
      ]
    },
    {
      "cell_type": "markdown",
      "metadata": {
        "id": "fxDt0m4vTJX_"
      },
      "source": [
        "# Part 2 (4 Points): Data Analysis"
      ]
    },
    {
      "cell_type": "markdown",
      "metadata": {
        "id": "A9NjvACaTmRH"
      },
      "source": [
        "Use the train set to perform the data analysis (you can add any other analysis) "
      ]
    },
    {
      "cell_type": "markdown",
      "metadata": {
        "id": "AP9Cgt1WTVVW"
      },
      "source": [
        "1. Visualize the 5 first rows of the data"
      ]
    },
    {
      "cell_type": "code",
      "execution_count": null,
      "metadata": {
        "id": "bfjO0bR8TUyO",
        "colab": {
          "base_uri": "https://localhost:8080/",
          "height": 206
        },
        "outputId": "9683b78f-7244-4b6c-cb9c-e6969014037b"
      },
      "outputs": [
        {
          "output_type": "execute_result",
          "data": {
            "text/plain": [
              "                category  room_count  bathroom_count   size      type  \\\n",
              "0     Terrains et Fermes         NaN             NaN    NaN  À Vendre   \n",
              "1     Terrains et Fermes         NaN             NaN    NaN  À Vendre   \n",
              "2           Appartements         2.0             1.0   80.0   À Louer   \n",
              "3  Locations de vacances         1.0             1.0   90.0   À Louer   \n",
              "4           Appartements         2.0             2.0  113.0  À Vendre   \n",
              "\n",
              "      price    city         region  \n",
              "0  100000.0  Ariana         Raoued  \n",
              "1  316000.0  Ariana  Autres villes  \n",
              "2     380.0  Ariana  Autres villes  \n",
              "3      70.0  Ariana  Autres villes  \n",
              "4  170000.0  Ariana   Ariana Ville  "
            ],
            "text/html": [
              "\n",
              "  <div id=\"df-29939dd9-1b6d-4b3c-9a45-ceeecb09349a\">\n",
              "    <div class=\"colab-df-container\">\n",
              "      <div>\n",
              "<style scoped>\n",
              "    .dataframe tbody tr th:only-of-type {\n",
              "        vertical-align: middle;\n",
              "    }\n",
              "\n",
              "    .dataframe tbody tr th {\n",
              "        vertical-align: top;\n",
              "    }\n",
              "\n",
              "    .dataframe thead th {\n",
              "        text-align: right;\n",
              "    }\n",
              "</style>\n",
              "<table border=\"1\" class=\"dataframe\">\n",
              "  <thead>\n",
              "    <tr style=\"text-align: right;\">\n",
              "      <th></th>\n",
              "      <th>category</th>\n",
              "      <th>room_count</th>\n",
              "      <th>bathroom_count</th>\n",
              "      <th>size</th>\n",
              "      <th>type</th>\n",
              "      <th>price</th>\n",
              "      <th>city</th>\n",
              "      <th>region</th>\n",
              "    </tr>\n",
              "  </thead>\n",
              "  <tbody>\n",
              "    <tr>\n",
              "      <th>0</th>\n",
              "      <td>Terrains et Fermes</td>\n",
              "      <td>NaN</td>\n",
              "      <td>NaN</td>\n",
              "      <td>NaN</td>\n",
              "      <td>À Vendre</td>\n",
              "      <td>100000.0</td>\n",
              "      <td>Ariana</td>\n",
              "      <td>Raoued</td>\n",
              "    </tr>\n",
              "    <tr>\n",
              "      <th>1</th>\n",
              "      <td>Terrains et Fermes</td>\n",
              "      <td>NaN</td>\n",
              "      <td>NaN</td>\n",
              "      <td>NaN</td>\n",
              "      <td>À Vendre</td>\n",
              "      <td>316000.0</td>\n",
              "      <td>Ariana</td>\n",
              "      <td>Autres villes</td>\n",
              "    </tr>\n",
              "    <tr>\n",
              "      <th>2</th>\n",
              "      <td>Appartements</td>\n",
              "      <td>2.0</td>\n",
              "      <td>1.0</td>\n",
              "      <td>80.0</td>\n",
              "      <td>À Louer</td>\n",
              "      <td>380.0</td>\n",
              "      <td>Ariana</td>\n",
              "      <td>Autres villes</td>\n",
              "    </tr>\n",
              "    <tr>\n",
              "      <th>3</th>\n",
              "      <td>Locations de vacances</td>\n",
              "      <td>1.0</td>\n",
              "      <td>1.0</td>\n",
              "      <td>90.0</td>\n",
              "      <td>À Louer</td>\n",
              "      <td>70.0</td>\n",
              "      <td>Ariana</td>\n",
              "      <td>Autres villes</td>\n",
              "    </tr>\n",
              "    <tr>\n",
              "      <th>4</th>\n",
              "      <td>Appartements</td>\n",
              "      <td>2.0</td>\n",
              "      <td>2.0</td>\n",
              "      <td>113.0</td>\n",
              "      <td>À Vendre</td>\n",
              "      <td>170000.0</td>\n",
              "      <td>Ariana</td>\n",
              "      <td>Ariana Ville</td>\n",
              "    </tr>\n",
              "  </tbody>\n",
              "</table>\n",
              "</div>\n",
              "      <button class=\"colab-df-convert\" onclick=\"convertToInteractive('df-29939dd9-1b6d-4b3c-9a45-ceeecb09349a')\"\n",
              "              title=\"Convert this dataframe to an interactive table.\"\n",
              "              style=\"display:none;\">\n",
              "        \n",
              "  <svg xmlns=\"http://www.w3.org/2000/svg\" height=\"24px\"viewBox=\"0 0 24 24\"\n",
              "       width=\"24px\">\n",
              "    <path d=\"M0 0h24v24H0V0z\" fill=\"none\"/>\n",
              "    <path d=\"M18.56 5.44l.94 2.06.94-2.06 2.06-.94-2.06-.94-.94-2.06-.94 2.06-2.06.94zm-11 1L8.5 8.5l.94-2.06 2.06-.94-2.06-.94L8.5 2.5l-.94 2.06-2.06.94zm10 10l.94 2.06.94-2.06 2.06-.94-2.06-.94-.94-2.06-.94 2.06-2.06.94z\"/><path d=\"M17.41 7.96l-1.37-1.37c-.4-.4-.92-.59-1.43-.59-.52 0-1.04.2-1.43.59L10.3 9.45l-7.72 7.72c-.78.78-.78 2.05 0 2.83L4 21.41c.39.39.9.59 1.41.59.51 0 1.02-.2 1.41-.59l7.78-7.78 2.81-2.81c.8-.78.8-2.07 0-2.86zM5.41 20L4 18.59l7.72-7.72 1.47 1.35L5.41 20z\"/>\n",
              "  </svg>\n",
              "      </button>\n",
              "      \n",
              "  <style>\n",
              "    .colab-df-container {\n",
              "      display:flex;\n",
              "      flex-wrap:wrap;\n",
              "      gap: 12px;\n",
              "    }\n",
              "\n",
              "    .colab-df-convert {\n",
              "      background-color: #E8F0FE;\n",
              "      border: none;\n",
              "      border-radius: 50%;\n",
              "      cursor: pointer;\n",
              "      display: none;\n",
              "      fill: #1967D2;\n",
              "      height: 32px;\n",
              "      padding: 0 0 0 0;\n",
              "      width: 32px;\n",
              "    }\n",
              "\n",
              "    .colab-df-convert:hover {\n",
              "      background-color: #E2EBFA;\n",
              "      box-shadow: 0px 1px 2px rgba(60, 64, 67, 0.3), 0px 1px 3px 1px rgba(60, 64, 67, 0.15);\n",
              "      fill: #174EA6;\n",
              "    }\n",
              "\n",
              "    [theme=dark] .colab-df-convert {\n",
              "      background-color: #3B4455;\n",
              "      fill: #D2E3FC;\n",
              "    }\n",
              "\n",
              "    [theme=dark] .colab-df-convert:hover {\n",
              "      background-color: #434B5C;\n",
              "      box-shadow: 0px 1px 3px 1px rgba(0, 0, 0, 0.15);\n",
              "      filter: drop-shadow(0px 1px 2px rgba(0, 0, 0, 0.3));\n",
              "      fill: #FFFFFF;\n",
              "    }\n",
              "  </style>\n",
              "\n",
              "      <script>\n",
              "        const buttonEl =\n",
              "          document.querySelector('#df-29939dd9-1b6d-4b3c-9a45-ceeecb09349a button.colab-df-convert');\n",
              "        buttonEl.style.display =\n",
              "          google.colab.kernel.accessAllowed ? 'block' : 'none';\n",
              "\n",
              "        async function convertToInteractive(key) {\n",
              "          const element = document.querySelector('#df-29939dd9-1b6d-4b3c-9a45-ceeecb09349a');\n",
              "          const dataTable =\n",
              "            await google.colab.kernel.invokeFunction('convertToInteractive',\n",
              "                                                     [key], {});\n",
              "          if (!dataTable) return;\n",
              "\n",
              "          const docLinkHtml = 'Like what you see? Visit the ' +\n",
              "            '<a target=\"_blank\" href=https://colab.research.google.com/notebooks/data_table.ipynb>data table notebook</a>'\n",
              "            + ' to learn more about interactive tables.';\n",
              "          element.innerHTML = '';\n",
              "          dataTable['output_type'] = 'display_data';\n",
              "          await google.colab.output.renderOutput(dataTable, element);\n",
              "          const docLink = document.createElement('div');\n",
              "          docLink.innerHTML = docLinkHtml;\n",
              "          element.appendChild(docLink);\n",
              "        }\n",
              "      </script>\n",
              "    </div>\n",
              "  </div>\n",
              "  "
            ]
          },
          "metadata": {},
          "execution_count": 65
        }
      ],
      "source": [
        "dataset.head()\n"
      ]
    },
    {
      "cell_type": "markdown",
      "metadata": {
        "id": "1z5zfJP_TjXD"
      },
      "source": [
        "2. Show dataset information to see if there is any null values"
      ]
    },
    {
      "cell_type": "code",
      "execution_count": null,
      "metadata": {
        "colab": {
          "base_uri": "https://localhost:8080/"
        },
        "id": "4Dt5lldgT6z2",
        "outputId": "0e03a363-891a-4cfe-d524-bcadbc2e16a9"
      },
      "outputs": [
        {
          "output_type": "execute_result",
          "data": {
            "text/plain": [
              "Colocations                                    65\n",
              "Locations de vacances                         298\n",
              "Bureaux et Plateaux                           461\n",
              "Magasins, Commerces et Locaux industriels     651\n",
              "Maisons et Villas                            3158\n",
              "Terrains et Fermes                           3415\n",
              "Appartements                                 4700\n",
              "Name: category, dtype: int64"
            ]
          },
          "metadata": {},
          "execution_count": 66
        }
      ],
      "source": [
        "dataset['category'].value_counts(ascending=True)"
      ]
    },
    {
      "cell_type": "markdown",
      "metadata": {
        "id": "NkFKCTQaUHmr"
      },
      "source": []
    },
    {
      "cell_type": "code",
      "execution_count": null,
      "metadata": {
        "colab": {
          "base_uri": "https://localhost:8080/"
        },
        "id": "RiUsOvk5UID0",
        "outputId": "75a25269-d0a8-4f83-d095-9d5c945c579c"
      },
      "outputs": [
        {
          "output_type": "execute_result",
          "data": {
            "text/plain": [
              "Kébili           11\n",
              "Tataouine        17\n",
              "Siliana          31\n",
              "Tozeur           46\n",
              "Sidi bouzid      53\n",
              "Kasserine        59\n",
              "Béja             63\n",
              "Le kef           63\n",
              "Gafsa            88\n",
              "Jendouba         92\n",
              "Kairouan        116\n",
              "Zaghouan        181\n",
              "Gabès           191\n",
              "Médenine        230\n",
              "Mahdia          268\n",
              "Bizerte         455\n",
              "Monastir        479\n",
              "Sfax            646\n",
              "La manouba      663\n",
              "Nabeul          821\n",
              "Ben arous      1123\n",
              "Sousse         2270\n",
              "Ariana         2374\n",
              "Tunis          2408\n",
              "Name: city, dtype: int64"
            ]
          },
          "metadata": {},
          "execution_count": 67
        }
      ],
      "source": [
        "# Count the values in category column\n",
        "dataset['city'].value_counts(ascending=True)"
      ]
    },
    {
      "cell_type": "code",
      "execution_count": null,
      "metadata": {
        "id": "1qN4xV49UNjU",
        "colab": {
          "base_uri": "https://localhost:8080/"
        },
        "outputId": "638dfd4b-6723-44dc-ee3b-456fdddadd64"
      },
      "outputs": [
        {
          "output_type": "execute_result",
          "data": {
            "text/plain": [
              "Kébili           11\n",
              "Tataouine        17\n",
              "Siliana          31\n",
              "Tozeur           46\n",
              "Sidi bouzid      53\n",
              "Kasserine        59\n",
              "Béja             63\n",
              "Le kef           63\n",
              "Gafsa            88\n",
              "Jendouba         92\n",
              "Kairouan        116\n",
              "Zaghouan        181\n",
              "Gabès           191\n",
              "Médenine        230\n",
              "Mahdia          268\n",
              "Bizerte         455\n",
              "Monastir        479\n",
              "Sfax            646\n",
              "La manouba      663\n",
              "Nabeul          821\n",
              "Ben arous      1123\n",
              "Sousse         2270\n",
              "Ariana         2374\n",
              "Tunis          2408\n",
              "Name: city, dtype: int64"
            ]
          },
          "metadata": {},
          "execution_count": 68
        }
      ],
      "source": [
        "# Count the values in city column\n",
        "dataset['city'].value_counts(ascending=True)"
      ]
    },
    {
      "cell_type": "markdown",
      "metadata": {
        "id": "ROfEZ3tsWBnR"
      },
      "source": [
        "3. Show correlation between columns"
      ]
    },
    {
      "cell_type": "code",
      "execution_count": null,
      "metadata": {
        "id": "Sps2sE3hWBDO",
        "colab": {
          "base_uri": "https://localhost:8080/"
        },
        "outputId": "a776082e-00a0-4896-8f22-7fa3e5b8c695"
      },
      "outputs": [
        {
          "output_type": "stream",
          "name": "stdout",
          "text": [
            "                room_count  bathroom_count      size     price\n",
            "room_count        1.000000        0.595932  0.451061 -0.000842\n",
            "bathroom_count    0.595932        1.000000  0.474159 -0.004061\n",
            "size              0.451061        0.474159  1.000000  0.021117\n",
            "price            -0.000842       -0.004061  0.021117  1.000000\n"
          ]
        }
      ],
      "source": [
        "print(dataset.corr())"
      ]
    },
    {
      "cell_type": "markdown",
      "metadata": {
        "id": "MtWvEKimaKDc"
      },
      "source": [
        "4. Add a new column named `log_price` where you calculate the log10 (using numpy) of the price, then show correlations\n",
        "\n"
      ]
    },
    {
      "cell_type": "code",
      "execution_count": null,
      "metadata": {
        "id": "ohosUZf6aB1z"
      },
      "outputs": [],
      "source": [
        "import numpy as np\n",
        "dataset['log_price'] = np.log10(dataset['price'])"
      ]
    },
    {
      "cell_type": "code",
      "execution_count": null,
      "metadata": {
        "id": "WTgVMFeCa9cz"
      },
      "outputs": [],
      "source": [
        "print(dataset.corr())\n"
      ]
    },
    {
      "cell_type": "markdown",
      "metadata": {
        "id": "EnUudkcbb3C8"
      },
      "source": [
        "## Part 3: Data Cleaning (4 points)"
      ]
    },
    {
      "cell_type": "code",
      "execution_count": null,
      "metadata": {
        "id": "LJsy9nufb2l7",
        "colab": {
          "base_uri": "https://localhost:8080/"
        },
        "outputId": "e582e9ab-4363-444d-a8b3-289032bb1b12"
      },
      "outputs": [
        {
          "output_type": "stream",
          "name": "stdout",
          "text": [
            "  (0, 0)\t0.12123929423999193\n",
            "  (0, 1)\t-0.4188192610361682\n",
            "  (0, 2)\t-0.2579010774500918\n",
            "  (0, 3)\t-0.015655800681757467\n",
            "  (0, 10)\t1.0\n",
            "  (0, 12)\t1.0\n",
            "  (0, 13)\t1.0\n",
            "  (0, 224)\t1.0\n",
            "  (0, 669)\t1.0\n",
            "  (1, 0)\t0.12123929423999193\n",
            "  (1, 1)\t-0.4188192610361682\n",
            "  (1, 2)\t-0.2579010774500918\n",
            "  (1, 3)\t-0.01544332858859899\n",
            "  (1, 10)\t1.0\n",
            "  (1, 12)\t1.0\n",
            "  (1, 13)\t1.0\n",
            "  (1, 44)\t1.0\n",
            "  (1, 916)\t1.0\n",
            "  (2, 0)\t-0.5969570454307412\n",
            "  (2, 1)\t-0.4188192610361682\n",
            "  (2, 2)\t-0.49609008964553986\n",
            "  (2, 3)\t-0.015753793598055836\n",
            "  (2, 4)\t1.0\n",
            "  (2, 11)\t1.0\n",
            "  (2, 13)\t1.0\n",
            "  :\t:\n",
            "  (12745, 2)\t3.5531231176770777\n",
            "  (12745, 3)\t-0.013836016550539017\n",
            "  (12745, 9)\t1.0\n",
            "  (12745, 12)\t1.0\n",
            "  (12745, 35)\t1.0\n",
            "  (12745, 173)\t1.0\n",
            "  (12745, 1194)\t1.0\n",
            "  (12746, 0)\t0.12123929423999193\n",
            "  (12746, 1)\t-0.4188192610361682\n",
            "  (12746, 2)\t0.15892969389194245\n",
            "  (12746, 3)\t-0.01551808728804364\n",
            "  (12746, 9)\t1.0\n",
            "  (12746, 12)\t1.0\n",
            "  (12746, 35)\t1.0\n",
            "  (12746, 173)\t1.0\n",
            "  (12746, 847)\t1.0\n",
            "  (12747, 0)\t-0.5969570454307412\n",
            "  (12747, 1)\t-0.4188192610361682\n",
            "  (12747, 2)\t-0.5556373426944019\n",
            "  (12747, 3)\t-0.015753675558004082\n",
            "  (12747, 9)\t1.0\n",
            "  (12747, 11)\t1.0\n",
            "  (12747, 35)\t1.0\n",
            "  (12747, 254)\t1.0\n",
            "  (12747, 371)\t1.0\n"
          ]
        }
      ],
      "source": [
        "from sklearn.impute import SimpleImputer\n",
        "from sklearn.compose import ColumnTransformer\n",
        "from sklearn.preprocessing import OneHotEncoder\n",
        "from sklearn.pipeline import Pipeline\n",
        "from sklearn.preprocessing import StandardScaler\n",
        "data_set_labels = dataset['log_price']\n",
        "data_set_num= dataset.drop([\"category\",\"type\",\"city\",\"region\",\"log_price\"], axis=1)\n",
        "# NumPipeline\n",
        "num_pipeline = Pipeline([ \n",
        " ('imputer', SimpleImputer(strategy=\"median\")),\n",
        " ('std_scaler', StandardScaler() )])\n",
        "num_attribs = list(data_set_num)\n",
        "cat_attribs = [\"category\",\"type\",\"city\",\"region\",\"log_price\"]\n",
        "ordinal=OneHotEncoder(sparse=False)\n",
        "full_pipeline = ColumnTransformer([(\"num\",num_pipeline,num_attribs),(\"cat\",OneHotEncoder(),cat_attribs)])\n",
        "dataset_prepared = full_pipeline.fit_transform(dataset)\n",
        "print(dataset_prepared)"
      ]
    },
    {
      "cell_type": "markdown",
      "metadata": {
        "id": "8v3MtaI8b7de"
      },
      "source": [
        "## Part 4: Model Training (4 points)"
      ]
    },
    {
      "cell_type": "markdown",
      "metadata": {
        "id": "8h6pSqi8clcl"
      },
      "source": [
        "Use at least 2 models for regression and predict the log_price instead of the price:\n",
        "- use cross validation for one of the models (1 pt)\n",
        "- perform hyperparameter tuning in one of the models (1 pt)"
      ]
    },
    {
      "cell_type": "code",
      "execution_count": null,
      "metadata": {
        "colab": {
          "base_uri": "https://localhost:8080/"
        },
        "id": "ZYgQrrGwcrpB",
        "outputId": "cbec4028-4c01-4c2b-a706-e33afd9655cf"
      },
      "outputs": [
        {
          "output_type": "stream",
          "name": "stdout",
          "text": [
            "[-0.05025779 -0.04587816 -0.03765851 -0.08447515 -0.04840673 -0.04263805\n",
            " -0.07809731 -0.08929981 -0.06607886 -0.05695947]\n"
          ]
        }
      ],
      "source": [
        "from sklearn.tree import DecisionTreeRegressor\n",
        "from sklearn.linear_model import LinearRegression\n",
        "reg=DecisionTreeRegressor().fit(dataset_prepared, data_set_labels)\n",
        "#cross validation \n",
        "from sklearn.model_selection import cross_val_score\n",
        "scores=cross_val_score(reg,dataset_prepared,data_set_labels,scoring=\"neg_root_mean_squared_error\",cv=10)\n",
        "print(scores)"
      ]
    },
    {
      "cell_type": "markdown",
      "metadata": {
        "id": "On-PiLoVch1x"
      },
      "source": [
        "## Part 5: Ensembling of the models (2 points)"
      ]
    },
    {
      "cell_type": "markdown",
      "metadata": {
        "id": "CDHR18DqdEkG"
      },
      "source": [
        "Apply at least two model ensembling methods"
      ]
    },
    {
      "cell_type": "code",
      "execution_count": null,
      "metadata": {
        "id": "AJ15q2I2dD1T",
        "colab": {
          "base_uri": "https://localhost:8080/",
          "height": 235
        },
        "outputId": "b3be5400-edd9-4d81-8e6c-69a451e532c5"
      },
      "outputs": [
        {
          "output_type": "error",
          "ename": "NameError",
          "evalue": "ignored",
          "traceback": [
            "\u001b[0;31m---------------------------------------------------------------------------\u001b[0m",
            "\u001b[0;31mNameError\u001b[0m                                 Traceback (most recent call last)",
            "\u001b[0;32m<ipython-input-74-06c654b58754>\u001b[0m in \u001b[0;36m<module>\u001b[0;34m()\u001b[0m\n\u001b[1;32m      1\u001b[0m \u001b[0;31m#linear regression\u001b[0m\u001b[0;34m\u001b[0m\u001b[0;34m\u001b[0m\u001b[0;34m\u001b[0m\u001b[0m\n\u001b[0;32m----> 2\u001b[0;31m \u001b[0mdisplay_scores\u001b[0m\u001b[0;34m(\u001b[0m\u001b[0mscores\u001b[0m\u001b[0;34m)\u001b[0m\u001b[0;34m\u001b[0m\u001b[0;34m\u001b[0m\u001b[0m\n\u001b[0m\u001b[1;32m      3\u001b[0m \u001b[0mlin\u001b[0m \u001b[0;34m=\u001b[0m \u001b[0mLinearRegression\u001b[0m\u001b[0;34m(\u001b[0m\u001b[0;34m)\u001b[0m\u001b[0;34m.\u001b[0m\u001b[0mfit\u001b[0m\u001b[0;34m(\u001b[0m\u001b[0mdataset_prepared\u001b[0m\u001b[0;34m,\u001b[0m \u001b[0mdata_set_labels\u001b[0m\u001b[0;34m)\u001b[0m\u001b[0;34m\u001b[0m\u001b[0;34m\u001b[0m\u001b[0m\n\u001b[1;32m      4\u001b[0m \u001b[0mscores_labels\u001b[0m\u001b[0;34m=\u001b[0m\u001b[0mcross_val_score\u001b[0m\u001b[0;34m(\u001b[0m\u001b[0mlin\u001b[0m\u001b[0;34m,\u001b[0m\u001b[0mdataset_prepared\u001b[0m\u001b[0;34m,\u001b[0m\u001b[0mdata_set_labels\u001b[0m\u001b[0;34m,\u001b[0m\u001b[0mscoring\u001b[0m\u001b[0;34m=\u001b[0m\u001b[0;34m\"neg_root_mean_squared_error\"\u001b[0m\u001b[0;34m,\u001b[0m\u001b[0mcv\u001b[0m\u001b[0;34m=\u001b[0m\u001b[0;36m10\u001b[0m\u001b[0;34m)\u001b[0m\u001b[0;34m\u001b[0m\u001b[0;34m\u001b[0m\u001b[0m\n\u001b[1;32m      5\u001b[0m \u001b[0mdisplay_scores\u001b[0m\u001b[0;34m(\u001b[0m\u001b[0mscores_labels\u001b[0m\u001b[0;34m)\u001b[0m\u001b[0;34m\u001b[0m\u001b[0;34m\u001b[0m\u001b[0m\n",
            "\u001b[0;31mNameError\u001b[0m: name 'display_scores' is not defined"
          ]
        }
      ],
      "source": [
        "#linear regression\n",
        "display_scores(scores)\n",
        "lin = LinearRegression().fit(dataset_prepared, data_set_labels)\n",
        "scores_labels=cross_val_score(lin,dataset_prepared,data_set_labels,scoring=\"neg_root_mean_squared_error\",cv=10)\n",
        "display_scores(scores_labels)\n",
        "\n",
        "\n",
        "# hyperparameter tuning\n",
        "from sklearn.metrics import mean_squared_error\n",
        "lin_reg = LinearRegression()\n",
        "lin_reg.fit(dataset_prepared, data_set_labels)\n",
        "dataset_predictions = lin_reg.predict(dataset_prepared)\n",
        "lin_mse = mean_squared_error(data_set_labels, dataset_predictions)\n",
        "lin_rmse = np.sqrt(lin_mse)\n",
        "lin_rmse\n"
      ]
    },
    {
      "cell_type": "markdown",
      "metadata": {
        "id": "ZSyOShHrdQfA"
      },
      "source": [
        "## Part 6: XGBoost (2 Points)"
      ]
    },
    {
      "cell_type": "markdown",
      "metadata": {
        "id": "8G1f0APGdW3n"
      },
      "source": [
        "Use XGBoost with Cross Validation"
      ]
    },
    {
      "cell_type": "code",
      "execution_count": null,
      "metadata": {
        "id": "027WrR5jdJL2"
      },
      "outputs": [],
      "source": []
    }
  ],
  "metadata": {
    "colab": {
      "provenance": []
    },
    "kernelspec": {
      "display_name": "Python 3",
      "name": "python3"
    },
    "language_info": {
      "name": "python"
    }
  },
  "nbformat": 4,
  "nbformat_minor": 0
}